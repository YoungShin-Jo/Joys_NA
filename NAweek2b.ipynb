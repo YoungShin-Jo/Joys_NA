{
  "nbformat": 4,
  "nbformat_minor": 0,
  "metadata": {
    "colab": {
      "provenance": [],
      "mount_file_id": "1ABACKW4rK7XHbgb4gt9DTJ-JSFBVTlBv",
      "authorship_tag": "ABX9TyPFUIblQkspMaDKYIIRqbD2",
      "include_colab_link": true
    },
    "kernelspec": {
      "name": "python3",
      "display_name": "Python 3"
    },
    "language_info": {
      "name": "python"
    }
  },
  "cells": [
    {
      "cell_type": "markdown",
      "metadata": {
        "id": "view-in-github",
        "colab_type": "text"
      },
      "source": [
        "<a href=\"https://colab.research.google.com/github/YoungShin-Jo/Joys_NA/blob/main/NAweek2b.ipynb\" target=\"_parent\"><img src=\"https://colab.research.google.com/assets/colab-badge.svg\" alt=\"Open In Colab\"/></a>"
      ]
    },
    {
      "cell_type": "code",
      "execution_count": null,
      "metadata": {
        "colab": {
          "base_uri": "https://localhost:8080/"
        },
        "id": "k6X8ZVyDIBMm",
        "outputId": "90176740-64d6-428f-ff98-417821984320"
      },
      "outputs": [
        {
          "output_type": "stream",
          "name": "stdout",
          "text": [
            "Looking in indexes: https://pypi.org/simple, https://us-python.pkg.dev/colab-wheels/public/simple/\n",
            "Collecting GPyTorch\n",
            "  Downloading gpytorch-1.9.1-py3-none-any.whl (250 kB)\n",
            "\u001b[2K     \u001b[90m━━━━━━━━━━━━━━━━━━━━━━━━━━━━━━━━━━━━━━━\u001b[0m \u001b[32m250.9/250.9 KB\u001b[0m \u001b[31m4.3 MB/s\u001b[0m eta \u001b[36m0:00:00\u001b[0m\n",
            "\u001b[?25hRequirement already satisfied: scikit-learn in /usr/local/lib/python3.9/dist-packages (from GPyTorch) (1.2.2)\n",
            "Collecting linear-operator>=0.2.0\n",
            "  Downloading linear_operator-0.3.0-py3-none-any.whl (155 kB)\n",
            "\u001b[2K     \u001b[90m━━━━━━━━━━━━━━━━━━━━━━━━━━━━━━━━━━━━━━━\u001b[0m \u001b[32m155.6/155.6 KB\u001b[0m \u001b[31m8.7 MB/s\u001b[0m eta \u001b[36m0:00:00\u001b[0m\n",
            "\u001b[?25hRequirement already satisfied: torch>=1.11 in /usr/local/lib/python3.9/dist-packages (from linear-operator>=0.2.0->GPyTorch) (1.13.1+cu116)\n",
            "Requirement already satisfied: scipy in /usr/local/lib/python3.9/dist-packages (from linear-operator>=0.2.0->GPyTorch) (1.10.1)\n",
            "Requirement already satisfied: numpy>=1.17.3 in /usr/local/lib/python3.9/dist-packages (from scikit-learn->GPyTorch) (1.22.4)\n",
            "Requirement already satisfied: joblib>=1.1.1 in /usr/local/lib/python3.9/dist-packages (from scikit-learn->GPyTorch) (1.1.1)\n",
            "Requirement already satisfied: threadpoolctl>=2.0.0 in /usr/local/lib/python3.9/dist-packages (from scikit-learn->GPyTorch) (3.1.0)\n",
            "Requirement already satisfied: typing-extensions in /usr/local/lib/python3.9/dist-packages (from torch>=1.11->linear-operator>=0.2.0->GPyTorch) (4.5.0)\n",
            "Installing collected packages: linear-operator, GPyTorch\n",
            "Successfully installed GPyTorch-1.9.1 linear-operator-0.3.0\n"
          ]
        }
      ],
      "source": [
        "# installing GPyTorch using pip\n",
        "!pip install GPyTorch"
      ]
    },
    {
      "cell_type": "code",
      "source": [
        "import os\n",
        "print(os.getcwd())"
      ],
      "metadata": {
        "colab": {
          "base_uri": "https://localhost:8080/"
        },
        "id": "S5kAGWE-JPIJ",
        "outputId": "1a717ee4-0707-49e2-afe0-b806cef9d532"
      },
      "execution_count": null,
      "outputs": [
        {
          "output_type": "stream",
          "name": "stdout",
          "text": [
            "/content\n"
          ]
        }
      ]
    },
    {
      "cell_type": "code",
      "source": [
        "%cd /content/sample_data"
      ],
      "metadata": {
        "colab": {
          "base_uri": "https://localhost:8080/"
        },
        "id": "Z2BdKnmZJT1w",
        "outputId": "a2b5f99c-964d-43fa-d09f-57e567e4cb0e"
      },
      "execution_count": null,
      "outputs": [
        {
          "output_type": "stream",
          "name": "stdout",
          "text": [
            "/content/sample_data\n"
          ]
        }
      ]
    },
    {
      "cell_type": "code",
      "source": [
        "print(os.getcwd())"
      ],
      "metadata": {
        "colab": {
          "base_uri": "https://localhost:8080/"
        },
        "id": "PZwXsJt8JjAa",
        "outputId": "ec19ad1b-56fb-41ad-aac9-431e08e61e66"
      },
      "execution_count": null,
      "outputs": [
        {
          "output_type": "stream",
          "name": "stdout",
          "text": [
            "/content/sample_data\n"
          ]
        }
      ]
    },
    {
      "cell_type": "markdown",
      "source": [
        "1. Heading\n",
        "# Heading 1\n",
        "## Heading 2\n",
        "### Heading 3"
      ],
      "metadata": {
        "id": "E2WvDTEwKN4p"
      }
    },
    {
      "cell_type": "markdown",
      "source": [
        "2. Bold and italic text\n",
        "\n",
        "This is **bold** and this text is *italic*"
      ],
      "metadata": {
        "id": "B542DkjMKVOf"
      }
    },
    {
      "cell_type": "markdown",
      "source": [
        "3. Lists\n",
        "\n",
        "- Item 1\n",
        "- Item 2\n",
        "- Item 3\n",
        "\n",
        "1. Main point 1\n",
        "   - Subpoint 1\n",
        "   - Subpoint 2\n",
        "2. Main point 2\n",
        "   - Subpoint 1\n",
        "   - Subpoint 2"
      ],
      "metadata": {
        "id": "HVWMRxSpLKHZ"
      }
    },
    {
      "cell_type": "markdown",
      "source": [
        "4. Links\n",
        "\n",
        "This is a [link](https://www.instagram.com/joys_0810/)"
      ],
      "metadata": {
        "id": "BivkL0zfLiL-"
      }
    },
    {
      "cell_type": "markdown",
      "source": [
        "5. Image\n",
        "\n",
        "![Garnacho](data:image/jpeg;base64,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)"
      ],
      "metadata": {
        "id": "Gtt5e9BiNxWk"
      }
    },
    {
      "cell_type": "markdown",
      "source": [
        "6. Code blocks\n",
        "\n",
        "```python\n",
        "print(\"Hello, world!\")\n"
      ],
      "metadata": {
        "id": "2Q_p2X9EUN6B"
      }
    },
    {
      "cell_type": "markdown",
      "source": [
        "7. Creating a table\n",
        "\n",
        "| Name  | Age | Gender |\n",
        "|-------|-----|--------|\n",
        "| Alice | 25  | Female |\n",
        "| Bob   | 30  | Male   |"
      ],
      "metadata": {
        "id": "GBpLkgRfVd8o"
      }
    },
    {
      "cell_type": "markdown",
      "source": [
        "8. Creating a blockquote\n",
        "\n",
        "> \"The greatest glory in living lies not in\n",
        "never falling, but in rising every time we fall.\n",
        "\" - Nelson Mandela\n",
        "\n"
      ],
      "metadata": {
        "id": "iEZaDZEnV5b1"
      }
    },
    {
      "cell_type": "markdown",
      "source": [
        "9. Creating a horizontal rule\n",
        "\n",
        "***"
      ],
      "metadata": {
        "id": "yuAPTgcEWYIt"
      }
    },
    {
      "cell_type": "markdown",
      "source": [
        "10. Writing an equation using LaTeX syntax\n",
        "\n",
        "The equation $E=mc^2$ is famous.\n",
        "\n",
        "- Display Equations\n",
        "\n",
        "\\[ E=mc^2 \\]"
      ],
      "metadata": {
        "id": "FT5-YgWxWlnh"
      }
    },
    {
      "cell_type": "markdown",
      "source": [
        "- Writing a summation equation:\n",
        "$$\\sum_{i=1}^{n} i = \\frac{n(n+1)}{2}$$\n",
        "\n",
        "- Writing a fraction with multiple levels of nesting:\n",
        "$$\\frac{\\frac{3}{x}+\\frac{2}{y}}{1+\\frac{4}{z}}$$\n",
        "\n",
        "- Writing a matrix equation:\n",
        "$$\\begin{bmatrix}\n",
        "2 & 3 & 4 \\\\\n",
        "1 & 0 & -1 \\\\\n",
        "0 & 2 & 1\n",
        "\\end{bmatrix}\n",
        "\\begin{bmatrix}\n",
        "x \\\\\n",
        "y \\\\\n",
        "z\n",
        "\\end{bmatrix}\n",
        "=\n",
        "\\begin{bmatrix}\n",
        "2 \\\\\n",
        "3 \\\\\n",
        "4\n",
        "\\end{bmatrix}$$\n",
        "\n",
        "- Writing a limit equation:\n",
        "$$\\lim_{x \\to \\infty} \\left(1 + \\frac{1}{x}\n",
        "\\right)^x = e$$\n",
        "\n",
        "- Writing a diffenrential equation:\n",
        "$$\\frac{d^2y}{dx^2} + 2\\frac{dy}{dx} + y = e^x$$\n",
        "\n"
      ],
      "metadata": {
        "id": "TnZx6ZjcYv9v"
      }
    },
    {
      "cell_type": "code",
      "source": [
        "# integer\n",
        "a = 123\n",
        "type(a)"
      ],
      "metadata": {
        "colab": {
          "base_uri": "https://localhost:8080/"
        },
        "id": "YHCxOQvB0ZrG",
        "outputId": "787a5753-f80f-4b27-eb0a-82ac28eb1e71"
      },
      "execution_count": null,
      "outputs": [
        {
          "output_type": "execute_result",
          "data": {
            "text/plain": [
              "int"
            ]
          },
          "metadata": {},
          "execution_count": 1
        }
      ]
    },
    {
      "cell_type": "code",
      "source": [
        "# Floating-point\n",
        "a = 4.24E10\n",
        "type(a)"
      ],
      "metadata": {
        "colab": {
          "base_uri": "https://localhost:8080/"
        },
        "id": "CRybLe3Q0dWq",
        "outputId": "5a33adc7-cb68-4a6d-cdf3-d402d165b59c"
      },
      "execution_count": null,
      "outputs": [
        {
          "output_type": "execute_result",
          "data": {
            "text/plain": [
              "float"
            ]
          },
          "metadata": {},
          "execution_count": 2
        }
      ]
    },
    {
      "cell_type": "code",
      "source": [
        "# Octal (8진수)\n",
        "a = 0o177\n",
        "print(a)\n",
        "type(a)"
      ],
      "metadata": {
        "colab": {
          "base_uri": "https://localhost:8080/"
        },
        "id": "U1yLuYvF0qdi",
        "outputId": "4e574335-e17c-494f-ca7a-326d32d18ffe"
      },
      "execution_count": null,
      "outputs": [
        {
          "output_type": "stream",
          "name": "stdout",
          "text": [
            "127\n"
          ]
        },
        {
          "output_type": "execute_result",
          "data": {
            "text/plain": [
              "int"
            ]
          },
          "metadata": {},
          "execution_count": 3
        }
      ]
    },
    {
      "cell_type": "code",
      "source": [
        "# Hexadecimal (16진수)\n",
        "a = 0x8ff\n",
        "print(a)\n",
        "type(a)"
      ],
      "metadata": {
        "colab": {
          "base_uri": "https://localhost:8080/"
        },
        "id": "uljqjvIU0yvs",
        "outputId": "e83a0825-54e9-4815-af6e-3b412cf36c9b"
      },
      "execution_count": null,
      "outputs": [
        {
          "output_type": "stream",
          "name": "stdout",
          "text": [
            "2303\n"
          ]
        },
        {
          "output_type": "execute_result",
          "data": {
            "text/plain": [
              "int"
            ]
          },
          "metadata": {},
          "execution_count": 4
        }
      ]
    },
    {
      "cell_type": "code",
      "source": [
        "# Arithmeric Operations\n",
        "a = 3\n",
        "b = 4\n",
        "print(a + b)\n",
        "print(a - b)\n",
        "print(a * b)\n",
        "print(a / b)"
      ],
      "metadata": {
        "colab": {
          "base_uri": "https://localhost:8080/"
        },
        "id": "e5Dwz3jW07_E",
        "outputId": "fcc31a76-0e82-44c2-e1ba-75ca88a79645"
      },
      "execution_count": null,
      "outputs": [
        {
          "output_type": "stream",
          "name": "stdout",
          "text": [
            "7\n",
            "-1\n",
            "12\n",
            "0.75\n"
          ]
        }
      ]
    },
    {
      "cell_type": "code",
      "source": [
        "# //, %, ** operators\n",
        "a = 3\n",
        "b = 4\n",
        "print(a // b) # quotient(몫)\n",
        "print(a % b) # remainder(나머지)\n",
        "print(a ** b) # power(승)"
      ],
      "metadata": {
        "colab": {
          "base_uri": "https://localhost:8080/"
        },
        "id": "W05Rb7vA1GXz",
        "outputId": "1e191e98-c881-4b8c-a51b-cbb53aae31f5"
      },
      "execution_count": null,
      "outputs": [
        {
          "output_type": "stream",
          "name": "stdout",
          "text": [
            "0\n",
            "3\n",
            "81\n"
          ]
        }
      ]
    },
    {
      "cell_type": "code",
      "source": [],
      "metadata": {
        "id": "AYWceV-Z1YBW"
      },
      "execution_count": null,
      "outputs": []
    }
  ]
}